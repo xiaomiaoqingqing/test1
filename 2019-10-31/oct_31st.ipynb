{
 "cells": [
  {
   "cell_type": "markdown",
   "metadata": {},
   "source": [
    "# Python: peeking under the hood"
   ]
  },
  {
   "cell_type": "markdown",
   "metadata": {},
   "source": [
    "First let's try to delve in to some behavior that has demonstrated but not yet been explained in depth. We want to try and understand the difference between \n",
    "\n",
    "a) the observed output of a statement when a python expression is not assigned to a given variable\n",
    "b) the observed output of using the print function on a given variable\n",
    "\n",
    "By way of example:"
   ]
  },
  {
   "cell_type": "markdown",
   "metadata": {},
   "source": [
    "#### a)"
   ]
  },
  {
   "cell_type": "code",
   "execution_count": 1,
   "metadata": {},
   "outputs": [
    {
     "data": {
      "text/plain": [
       "4"
      ]
     },
     "execution_count": 1,
     "metadata": {},
     "output_type": "execute_result"
    }
   ],
   "source": [
    "2 + 2"
   ]
  },
  {
   "cell_type": "markdown",
   "metadata": {},
   "source": [
    "#### b)"
   ]
  },
  {
   "cell_type": "code",
   "execution_count": 2,
   "metadata": {},
   "outputs": [
    {
     "name": "stdout",
     "output_type": "stream",
     "text": [
      "4\n"
     ]
    }
   ],
   "source": [
    "print(2 + 2)"
   ]
  },
  {
   "cell_type": "markdown",
   "metadata": {},
   "source": [
    "### Are they different?"
   ]
  },
  {
   "cell_type": "markdown",
   "metadata": {},
   "source": [
    "The two examples above have completely different outcomes although they look the same superficially. This become clearer if we assign each expression to a variable"
   ]
  },
  {
   "cell_type": "markdown",
   "metadata": {},
   "source": [
    "#### a)"
   ]
  },
  {
   "cell_type": "code",
   "execution_count": 3,
   "metadata": {},
   "outputs": [],
   "source": [
    "a = 2 + 2"
   ]
  },
  {
   "cell_type": "code",
   "execution_count": 4,
   "metadata": {},
   "outputs": [
    {
     "data": {
      "text/plain": [
       "4"
      ]
     },
     "execution_count": 4,
     "metadata": {},
     "output_type": "execute_result"
    }
   ],
   "source": [
    "a"
   ]
  },
  {
   "cell_type": "markdown",
   "metadata": {},
   "source": [
    "#### b)"
   ]
  },
  {
   "cell_type": "code",
   "execution_count": 5,
   "metadata": {},
   "outputs": [
    {
     "name": "stdout",
     "output_type": "stream",
     "text": [
      "4\n"
     ]
    }
   ],
   "source": [
    "b = print(2 + 2)"
   ]
  },
  {
   "cell_type": "code",
   "execution_count": 6,
   "metadata": {},
   "outputs": [],
   "source": [
    "b"
   ]
  },
  {
   "cell_type": "markdown",
   "metadata": {},
   "source": [
    "In the case of a, the result is assigned to the label \"a\" and when \"a\" is evaluated as an expression we observe the value we stored.\n",
    "\n",
    "In contrast, the expression in b displays the result of the expression \"2 + 2\" but since the print function always returns \"None\", we can't do much with our variable \"b\""
   ]
  },
  {
   "cell_type": "markdown",
   "metadata": {},
   "source": [
    "### Why might I care about this difference?"
   ]
  },
  {
   "cell_type": "markdown",
   "metadata": {},
   "source": [
    "A simple reason to care is if we like the look of the output and want to capture it as a string to use it elsewhere. We can use the `str` function for that..."
   ]
  },
  {
   "cell_type": "code",
   "execution_count": 1,
   "metadata": {},
   "outputs": [
    {
     "data": {
      "text/plain": [
       "'[2.0, 3.0, 4.0, 5.0, 6.0, 7.0, 8.0, 9.0]'"
      ]
     },
     "execution_count": 1,
     "metadata": {},
     "output_type": "execute_result"
    }
   ],
   "source": [
    "my_list = [float(x) for x in range(2,10)]\n",
    "str(my_list)"
   ]
  },
  {
   "cell_type": "markdown",
   "metadata": {},
   "source": [
    "That's nice. It makes some things easier, but it doesn't quite explain what is going on. For example, using different methods of seeing a Path object gives different results:"
   ]
  },
  {
   "cell_type": "code",
   "execution_count": 7,
   "metadata": {},
   "outputs": [],
   "source": [
    "from pathlib import Path"
   ]
  },
  {
   "cell_type": "code",
   "execution_count": 8,
   "metadata": {},
   "outputs": [
    {
     "data": {
      "text/plain": [
       "type"
      ]
     },
     "execution_count": 8,
     "metadata": {},
     "output_type": "execute_result"
    }
   ],
   "source": [
    "type"
   ]
  },
  {
   "cell_type": "code",
   "execution_count": 9,
   "metadata": {},
   "outputs": [],
   "source": [
    "test_path = Path('a_test_file.txt')"
   ]
  },
  {
   "cell_type": "code",
   "execution_count": 10,
   "metadata": {},
   "outputs": [
    {
     "data": {
      "text/plain": [
       "PosixPath('a_test_file.txt')"
      ]
     },
     "execution_count": 10,
     "metadata": {},
     "output_type": "execute_result"
    }
   ],
   "source": [
    "test_path"
   ]
  },
  {
   "cell_type": "code",
   "execution_count": 11,
   "metadata": {},
   "outputs": [
    {
     "name": "stdout",
     "output_type": "stream",
     "text": [
      "a_test_file.txt\n"
     ]
    }
   ],
   "source": [
    "print(test_path)"
   ]
  },
  {
   "cell_type": "code",
   "execution_count": 12,
   "metadata": {},
   "outputs": [
    {
     "data": {
      "text/plain": [
       "'a_test_file.txt'"
      ]
     },
     "execution_count": 12,
     "metadata": {},
     "output_type": "execute_result"
    }
   ],
   "source": [
    "str(test_path)"
   ]
  },
  {
   "cell_type": "markdown",
   "metadata": {},
   "source": [
    "### Ok. Enough said. What's under the hood?"
   ]
  },
  {
   "cell_type": "markdown",
   "metadata": {},
   "source": [
    "It turns out that when we print a variable we are calling a \"hidden\" `__str__` method of the variable and display the resulting string. To capture the string we could instead call this method. This is still not exactly the same as `print`, which will interpret the character encodings and display the string without quotes. It's close enough though."
   ]
  },
  {
   "cell_type": "code",
   "execution_count": 13,
   "metadata": {},
   "outputs": [
    {
     "data": {
      "text/plain": [
       "'a_test_file.txt'"
      ]
     },
     "execution_count": 13,
     "metadata": {},
     "output_type": "execute_result"
    }
   ],
   "source": [
    "test_path.__str__()"
   ]
  },
  {
   "cell_type": "markdown",
   "metadata": {},
   "source": [
    "And finally, the `__repr__` method will give us something more official and is often sufficient to instantiate the object that we currently have:"
   ]
  },
  {
   "cell_type": "code",
   "execution_count": 14,
   "metadata": {},
   "outputs": [
    {
     "data": {
      "text/plain": [
       "\"PosixPath('a_test_file.txt')\""
      ]
     },
     "execution_count": 14,
     "metadata": {},
     "output_type": "execute_result"
    }
   ],
   "source": [
    "test_path.__repr__()"
   ]
  },
  {
   "cell_type": "markdown",
   "metadata": {},
   "source": [
    "The are lots of hidden methods like this that enable all python objects to behave the way they do:"
   ]
  },
  {
   "cell_type": "code",
   "execution_count": 16,
   "metadata": {},
   "outputs": [
    {
     "data": {
      "text/plain": [
       "PosixPath('a_test_file.txt')"
      ]
     },
     "execution_count": 16,
     "metadata": {},
     "output_type": "execute_result"
    }
   ],
   "source": [
    "test_path"
   ]
  },
  {
   "cell_type": "code",
   "execution_count": 17,
   "metadata": {},
   "outputs": [],
   "source": [
    "import sys"
   ]
  },
  {
   "cell_type": "code",
   "execution_count": 18,
   "metadata": {},
   "outputs": [
    {
     "name": "stdout",
     "output_type": "stream",
     "text": [
      "PosixPath('a_test_file.txt')"
     ]
    }
   ],
   "source": [
    "sys.stdout.write(repr(test_path))"
   ]
  },
  {
   "cell_type": "code",
   "execution_count": 15,
   "metadata": {},
   "outputs": [
    {
     "data": {
      "text/plain": [
       "['__bytes__',\n",
       " '__class__',\n",
       " '__delattr__',\n",
       " '__dir__',\n",
       " '__doc__',\n",
       " '__enter__',\n",
       " '__eq__',\n",
       " '__exit__',\n",
       " '__format__',\n",
       " '__fspath__',\n",
       " '__ge__',\n",
       " '__getattribute__',\n",
       " '__gt__',\n",
       " '__hash__',\n",
       " '__init__',\n",
       " '__init_subclass__',\n",
       " '__le__',\n",
       " '__lt__',\n",
       " '__module__',\n",
       " '__ne__',\n",
       " '__new__',\n",
       " '__reduce__',\n",
       " '__reduce_ex__',\n",
       " '__repr__',\n",
       " '__rtruediv__',\n",
       " '__setattr__',\n",
       " '__sizeof__',\n",
       " '__slots__',\n",
       " '__str__',\n",
       " '__subclasshook__',\n",
       " '__truediv__']"
      ]
     },
     "execution_count": 15,
     "metadata": {},
     "output_type": "execute_result"
    }
   ],
   "source": [
    "[x for x in dir(test_path) if x.startswith('__')]"
   ]
  },
  {
   "cell_type": "markdown",
   "metadata": {},
   "source": [
    "### I'm still some of the details of the print function\n",
    "[Here](https://snarky.ca/why-print-became-a-function-in-python-3/) is a description that you might like."
   ]
  },
  {
   "cell_type": "markdown",
   "metadata": {},
   "source": [
    "# Finishing the exercise to generate a tree of data"
   ]
  },
  {
   "cell_type": "code",
   "execution_count": 26,
   "metadata": {},
   "outputs": [
    {
     "name": "stdout",
     "output_type": "stream",
     "text": [
      "0.5577414683537048,\n",
      "0.43982426834841004,\n",
      "0.897589796788902,\n",
      "0.876609769270911,\n",
      "0.9922582677278722,\n",
      "0.6205887153925937,\n",
      "0.6928911401825408,\n",
      "0.48506966924095585,\n",
      "0.7794101214164957,\n",
      "0.43766596991908735,\n",
      "0.8799010662057603,\n",
      "0.7741598413730841,\n",
      "0.29393259488248513,\n",
      "0.40590722584568617,\n",
      "0.7921578606217805,\n",
      "0.5451154237853839,\n",
      "0.7260056309674134,\n",
      "0.829564929942111,\n",
      "0.2298744666762338,\n",
      "0.32276524778012183,\n",
      "0.14595640287163358,\n",
      "0.2852285099625921,\n",
      "0.3168579796009109,\n",
      "0.1961417999019941,\n",
      "0.6249853326640685,\n",
      "0.17306885345079803,\n",
      "0.551420125428466,\n",
      "0.028752360068183713,\n",
      "0.5201292736843518,\n",
      "0.21605074873246444\n"
     ]
    }
   ],
   "source": [
    "from pathlib import Path\n",
    "import itertools\n",
    "import random\n",
    "import shutil\n",
    "\n",
    "seasons = 'spring summer autumn winter'.split()\n",
    "animals = 'cat dog bat monkey elephant'.split()\n",
    "test_dir = Path('testdir')\n",
    "if test_dir.exists():\n",
    "    shutil.rmtree(test_dir)\n",
    "\n",
    "\n",
    "def generate_text():\n",
    "    return ',\\n'.join([str(random.random()) for x in range(random.randint(1,100))])\n",
    "\n",
    "for animal,season in itertools.product(animals,seasons):\n",
    "    this_loop_dir = test_dir / animal / season\n",
    "    text_path = this_loop_dir / 'data.txt'\n",
    "    text_path.parent.mkdir(parents=True)\n",
    "    text_string = generate_text()\n",
    "    text_path.write_text(text_string)\n",
    "\n",
    "print(text_path.read_text())"
   ]
  },
  {
   "cell_type": "code",
   "execution_count": 22,
   "metadata": {},
   "outputs": [
    {
     "name": "stdout",
     "output_type": "stream",
     "text": [
      "0.07675528334388637,\n",
      "0.9253231137600759,\n",
      "0.9536016491873796,\n",
      "0.49635786045188157,\n",
      "0.5669686113293642,\n",
      "0.851614126879594,\n",
      "0.24153117598988483,\n",
      "0.8022641201012453,\n",
      "0.051569214075244174,\n",
      "0.36168866432966906,\n",
      "0.8242871683621597,\n",
      "0.5529553491582786,\n",
      "0.5590114538301728,\n",
      "0.2580153556405833,\n",
      "0.5187139486975969,\n",
      "0.9125330097376304,\n",
      "0.8503908750424144,\n",
      "0.10336459986904911,\n",
      "0.3546156598554361,\n",
      "0.6933389455872093,\n",
      "0.4379221128527685,\n",
      "0.28117478765990767,\n",
      "0.43415804245461864,\n",
      "0.9395392622345882,\n",
      "0.3906350386795886,\n",
      "0.20545847016346397,\n",
      "0.04050850965202546,\n",
      "0.8363224680177082,\n",
      "0.5213106387874163,\n",
      "0.5801105759549575,\n",
      "0.2736849444628209,\n",
      "0.9227714173618083,\n",
      "0.46923529060749647,\n",
      "0.9253101268207485,\n",
      "0.7644995292671246,\n",
      "0.7978489193333103,\n",
      "0.6090422316590997,\n",
      "0.14778301035088737\n"
     ]
    }
   ],
   "source": [
    "def generate_text():\n",
    "    return ',\\n'.join([str(random.random()) for x in range(random.randint(1,100))])\n",
    "\n",
    "print(generate_text())"
   ]
  },
  {
   "cell_type": "code",
   "execution_count": 23,
   "metadata": {},
   "outputs": [
    {
     "data": {
      "text/plain": [
       "'0.7916059118026918,\\n0.46496884960951124,\\n0.234141643288848,\\n0.09630001428655255,\\n0.3228969422454372,\\n0.9784501204171521,\\n0.31397023519223277,\\n0.417792047582602,\\n0.4508095778412754,\\n0.6089571534055745,\\n0.33365950366463115,\\n0.5982996032699263'"
      ]
     },
     "execution_count": 23,
     "metadata": {},
     "output_type": "execute_result"
    }
   ],
   "source": [
    "def generate_text():\n",
    "    return ',\\n'.join([str(random.random()) for x in range(random.randint(1,100))])\n",
    "\n",
    "generate_text()"
   ]
  },
  {
   "cell_type": "code",
   "execution_count": 71,
   "metadata": {},
   "outputs": [],
   "source": [
    "def generate_test_tree(test_dir, overwrite=False):\n",
    "    seasons = 'spring summer autumn winter'.split()\n",
    "    animals = 'cat dog bat monkey elephant'.split()\n",
    "    \n",
    "    if test_dir.exists():\n",
    "        shutil.rmtree(test_dir)   #deal with file exist error\n",
    "    for animal,season in itertools.product(animals,seasons):\n",
    "        this_loop_dir = test_dir / animal / season\n",
    "        text_path = this_loop_dir / 'data.txt'\n",
    "        text_path.parent.mkdir(parents=True)\n",
    "        text_string = generate_text()\n",
    "        text_path.write_text(text_string)\n",
    "\n",
    "test_dir = Path(\"test_directory_path\")\n",
    "generate_test_tree(test_dir)"
   ]
  },
  {
   "cell_type": "code",
   "execution_count": 86,
   "metadata": {},
   "outputs": [],
   "source": [
    "# to overwrite, overwrite is default\n",
    "def generate_test_tree(test_dir, overwrite=False):\n",
    "    seasons = 'spring summer autumn winter'.split()\n",
    "    animals = 'cat dog bat monkey elephant'.split()\n",
    "    \n",
    "    if test_dir.exists() and overwrite:\n",
    "        shutil.rmtree(test_dir)   \n",
    "    for animal,season in itertools.product(animals,seasons):\n",
    "        this_loop_dir = test_dir / animal / season\n",
    "        text_path = this_loop_dir / 'data.txt'\n",
    "        text_path.parent.mkdir(parents=True)\n",
    "        text_string = generate_text()\n",
    "        text_path.write_text(text_string)\n",
    "\n",
    "test_dir = Path(\"test_directory_path\")\n",
    "generate_test_tree(test_dir, overwrite=True)"
   ]
  },
  {
   "cell_type": "code",
   "execution_count": 63,
   "metadata": {},
   "outputs": [],
   "source": [
    "tdir=Path(\"test_dir2\")\n",
    "generate_test_tree(tdir)"
   ]
  },
  {
   "cell_type": "code",
   "execution_count": 51,
   "metadata": {},
   "outputs": [
    {
     "name": "stdout",
     "output_type": "stream",
     "text": [
      "/Users/miaol/fall2019/2019-10-31\n"
     ]
    }
   ],
   "source": [
    "!pwd\n"
   ]
  },
  {
   "cell_type": "code",
   "execution_count": 60,
   "metadata": {},
   "outputs": [
    {
     "data": {
      "text/plain": [
       "'/Users/miaol/fall2019/2019-10-31'"
      ]
     },
     "execution_count": 60,
     "metadata": {},
     "output_type": "execute_result"
    }
   ],
   "source": [
    "pwd"
   ]
  },
  {
   "cell_type": "code",
   "execution_count": 61,
   "metadata": {},
   "outputs": [
    {
     "data": {
      "text/plain": [
       "'/Users/miaol/fall2019/2019-10-31'"
      ]
     },
     "execution_count": 61,
     "metadata": {},
     "output_type": "execute_result"
    }
   ],
   "source": [
    "%pwd"
   ]
  },
  {
   "cell_type": "code",
   "execution_count": 87,
   "metadata": {},
   "outputs": [
    {
     "ename": "NameError",
     "evalue": "name 'test_dir1' is not defined",
     "output_type": "error",
     "traceback": [
      "\u001b[0;31m---------------------------------------------------------------------------\u001b[0m",
      "\u001b[0;31mNameError\u001b[0m                                 Traceback (most recent call last)",
      "\u001b[0;32m<ipython-input-87-1eaf9d4e8f0e>\u001b[0m in \u001b[0;36m<module>\u001b[0;34m\u001b[0m\n\u001b[0;32m----> 1\u001b[0;31m \u001b[0mgenerate_test_tree\u001b[0m\u001b[0;34m(\u001b[0m\u001b[0mtest_dir1\u001b[0m\u001b[0;34m,\u001b[0m\u001b[0moverwrite\u001b[0m\u001b[0;34m=\u001b[0m\u001b[0;32mTrue\u001b[0m\u001b[0;34m)\u001b[0m\u001b[0;34m\u001b[0m\u001b[0;34m\u001b[0m\u001b[0m\n\u001b[0m",
      "\u001b[0;31mNameError\u001b[0m: name 'test_dir1' is not defined"
     ]
    }
   ],
   "source": [
    "generate_test_tree(test_dir1,overwrite=True)"
   ]
  },
  {
   "cell_type": "code",
   "execution_count": 82,
   "metadata": {},
   "outputs": [],
   "source": [
    "from my_funcs import generate_test_tree"
   ]
  },
  {
   "cell_type": "code",
   "execution_count": null,
   "metadata": {},
   "outputs": [],
   "source": [
    "generate_test_tree(test_dir3,overwrite=True)"
   ]
  },
  {
   "cell_type": "markdown",
   "metadata": {},
   "source": [
    "### Making this better..."
   ]
  },
  {
   "cell_type": "markdown",
   "metadata": {},
   "source": [
    "There are many things we can do to make this code better. Let's discuss some of them."
   ]
  },
  {
   "cell_type": "markdown",
   "metadata": {},
   "source": [
    "### Breaking down the problem. \n",
    "This breakdown should ease rather than hinder the debugging process."
   ]
  },
  {
   "cell_type": "markdown",
   "metadata": {},
   "source": [
    "### Carefully thinking about idempotence."
   ]
  },
  {
   "cell_type": "markdown",
   "metadata": {},
   "source": [
    "### Carefully thinking about breaking backwards compatibility as we expand the functionality of our code."
   ]
  },
  {
   "cell_type": "markdown",
   "metadata": {},
   "source": [
    "### Saving our code in a way that is more reusable, shareable."
   ]
  },
  {
   "cell_type": "markdown",
   "metadata": {},
   "source": [
    "### Reassessing whether we solved the problem in the correct way. Would we attack the problem differently?"
   ]
  },
  {
   "cell_type": "markdown",
   "metadata": {},
   "source": [
    "### The end of course project"
   ]
  },
  {
   "cell_type": "markdown",
   "metadata": {},
   "source": [
    "A rough rubric that is subject to change is available on the [course repository](https://github.com/biof309/fall2019.git)"
   ]
  },
  {
   "cell_type": "code",
   "execution_count": 95,
   "metadata": {},
   "outputs": [],
   "source": [
    "def generate_text():\n",
    "    num = range(random.randint(1,100))\n",
    "    numlist = [random.random() for a in num]\n",
    "    output = \",\\n\".join([str(x) for a in numlist])\n",
    "    return output"
   ]
  }
 ],
 "metadata": {
  "kernelspec": {
   "display_name": "Python 3",
   "language": "python",
   "name": "python3"
  },
  "language_info": {
   "codemirror_mode": {
    "name": "ipython",
    "version": 3
   },
   "file_extension": ".py",
   "mimetype": "text/x-python",
   "name": "python",
   "nbconvert_exporter": "python",
   "pygments_lexer": "ipython3",
   "version": "3.7.3"
  }
 },
 "nbformat": 4,
 "nbformat_minor": 4
}
